{
  "nbformat": 4,
  "nbformat_minor": 0,
  "metadata": {
    "colab": {
      "name": "Untitled3.ipynb",
      "provenance": [],
      "authorship_tag": "ABX9TyOlWOS5COy6aMq9FjhL4Fhn",
      "include_colab_link": true
    },
    "kernelspec": {
      "name": "python3",
      "display_name": "Python 3"
    },
    "language_info": {
      "name": "python"
    }
  },
  "cells": [
    {
      "cell_type": "markdown",
      "metadata": {
        "id": "view-in-github",
        "colab_type": "text"
      },
      "source": [
        "<a href=\"https://colab.research.google.com/github/topcat101-cmd/Nids-using-TranferLearning/blob/main/Nids_intrusion_detection_system.ipynb\" target=\"_parent\"><img src=\"https://colab.research.google.com/assets/colab-badge.svg\" alt=\"Open In Colab\"/></a>"
      ]
    },
    {
      "cell_type": "code",
      "metadata": {
        "colab": {
          "base_uri": "https://localhost:8080/"
        },
        "id": "3IUBTazi434w",
        "outputId": "31fcdd07-c4c4-4cf1-e1bd-a68aaf91cbf7"
      },
      "source": [
        "from google.colab import drive\n",
        "import pandas as pd\n",
        "import numpy as np\n",
        "from tensorflow import keras\n",
        "#-------------------------------------------\n",
        "import tensorflow as tf\n",
        "#------------------------------------------\n",
        "from sklearn.preprocessing import (StandardScaler, OrdinalEncoder,LabelEncoder, MinMaxScaler, OneHotEncoder)\n",
        "from sklearn.naive_bayes import GaussianNB\n",
        "from sklearn.feature_extraction.text import CountVectorizer\n",
        "from sklearn.preprocessing import Normalizer, MaxAbsScaler , RobustScaler, PowerTransformer\n",
        "import matplotlib.pyplot as plt\n",
        "import seaborn as sns\n",
        "%matplotlib inline\n",
        "\n",
        "\n",
        "drive.mount('/content/drive')  #Loads the dataset"
      ],
      "execution_count": 29,
      "outputs": [
        {
          "output_type": "stream",
          "text": [
            "Drive already mounted at /content/drive; to attempt to forcibly remount, call drive.mount(\"/content/drive\", force_remount=True).\n"
          ],
          "name": "stdout"
        }
      ]
    },
    {
      "cell_type": "code",
      "metadata": {
        "id": "1GMBeFQyMVAj"
      },
      "source": [
        "path = 'drive/My Drive/Dataset/NSL-KDD' #The path to the drive, of where the datasets lay.\n",
        "train = (path+ '/KDDTrain+.txt')\n",
        "test = (path+ '/KDDTest+.txt')\n",
        "test1 = (path+ '/KDDTest-21.txt')  #Loads the dataset\n",
        "\n",
        "#Displays the features included for the algorinm\n",
        "feature_included=[\"duration\",\"protocol_type\",\"service\",\"flag\",\"src_bytes\",\"dst_bytes\",\"land\",\"wrong_fragment\",\"urgent\",\"hot\",\n",
        "          \"num_failed_logins\",\"logged_in\",\"num_compromised\",\"root_shell\",\"su_attempted\",\"num_root\",\"num_file_creations\",\"num_shells\",\n",
        "          \"num_access_files\",\"num_outbound_cmds\",\"is_host_login\",\"is_guest_login\",\"count\",\"srv_count\",\"serror_rate\",\"srv_serror_rate\",\n",
        "          \"rerror_rate\",\"srv_rerror_rate\",\"same_srv_rate\",\"diff_srv_rate\",\"srv_diff_host_rate\",\"dst_host_count\",\"dst_host_srv_count\", \n",
        "          \"dst_host_same_srv_rate\",\"dst_host_diff_srv_rate\",\"dst_host_same_src_port_rate\",\"dst_host_srv_diff_host_rate\",\"dst_host_serror_rate\",\n",
        "          \"dst_host_srv_serror_rate\",\"dst_host_rerror_rate\",\"dst_host_srv_rerror_rate\",\"label\",\"difficulty\"]\n",
        "\n",
        "\n",
        "protocol_types=['tcp','udp','icmp']\n",
        "\n",
        "services_types=['http','smtp','finger','domain_u','auth','telnet','ftp','eco_i','ntp_u','ecr_i','other','private','pop_3','ftp_data',\n",
        "                  'rje','time','mtp','link','remote_job','gopher','ssh','name','whois','domain','login','imap4','daytime','ctf','nntp',\n",
        "                  'shell','IRC','nnsp','http_443','exec','printer','efs','courier','uucp','klogin','kshell','echo','discard','systat',\n",
        "                  'supdup','iso_tsap','hostnames','csnet_ns','pop_2','sunrpc','uucp_path','netbios_ns','netbios_ssn','netbios_dgm',\n",
        "                  'sql_net','vmnet','bgp','Z39_50','ldap','netstat','urh_i','X11','urp_i','pm_dump','tftp_u','tim_i','red_i','icmp',\n",
        "                  'http_2784','harvest','aol','http_8001']\n",
        "\n",
        "binary_attack=['normal','ipsweep', 'nmap', 'portsweep','satan', 'saint', 'mscan','back', 'land', 'neptune', 'pod', 'smurf',\n",
        "               'teardrop', 'apache2', 'udpstorm', 'processtable','mailbomb','buffer_overflow', 'loadmodule', 'perl', 'rootkit',\n",
        "               'xterm', 'ps', 'sqlattack','ftp_write', 'guess_passwd', 'imap', 'multihop','phf', 'spy', 'warezclient',\n",
        "               'warezmaster','snmpgetattack','named', 'xlock', 'xsnoop','sendmail', 'httptunnel', 'worm', 'snmpguess']\n"
      ],
      "execution_count": 30,
      "outputs": []
    },
    {
      "cell_type": "code",
      "metadata": {
        "id": "nF9R-xri5SKf"
      },
      "source": [
        "train_data=pd.read_csv(train,names=feature_included) #Read a comma-separated values (csv) file into DataFrame.\n",
        "test_data=pd.read_csv(test,names=feature_included)#Read a comma-separated values (csv) file into DataFrame.\n",
        "test_dat1=pd.read_csv(test1,names=feature_included)\n",
        "print(train_data.head()) #prints out the data frame\n",
        "\n",
        "#--------------------------------------------------------------------------------------------------\n",
        "#DataFrame is a 2-dimensional labeled data structure with columns of potentially different types. -\n",
        "#You can think of it like a spreadsheet or SQL table, or a dict of Series objects.                -\n",
        "#It is generally the most commonly used pandas object                                             -\n",
        "#https://pandas.pydata.org/pandas-docs/stable/user_guide/dsintro.html                             -\n",
        "#--------------------------------------------------------------------------------------------------\n",
        "\n",
        "\n"
      ],
      "execution_count": null,
      "outputs": []
    },
    {
      "cell_type": "code",
      "metadata": {
        "id": "OzCOkaaodIFS"
      },
      "source": [
        "#x_data = train_data.pop('protocol_type') #Gives me the entrys of protocol_type by removing it\n",
        "print(train_data.loc[255]) #prints out the data frame ----- #loc allows you to find a specific row in your dataframe, giving the index"
      ],
      "execution_count": null,
      "outputs": []
    },
    {
      "cell_type": "code",
      "metadata": {
        "colab": {
          "base_uri": "https://localhost:8080/"
        },
        "id": "nA7Izcpm_Nrl",
        "outputId": "9947d40b-9d50-43b0-aa2e-59c5a77fdaf5"
      },
      "source": [
        "print('Dimensions of the Training set:',train_data.shape)\n",
        "print('Dimensions of the Test set:',test_data.shape)\n",
        "print('Dimensions of the Test-21 set:',test_dat1.shape)\n",
        "#we have so many rows and so many columns, this is importatnt to get the dimentions."
      ],
      "execution_count": 32,
      "outputs": [
        {
          "output_type": "stream",
          "text": [
            "Dimensions of the Training set: (125973, 43)\n",
            "Dimensions of the Test set: (22544, 43)\n",
            "Dimensions of the Test-21 set: (11850, 43)\n"
          ],
          "name": "stdout"
        }
      ]
    },
    {
      "cell_type": "code",
      "metadata": {
        "id": "4AODpwgDu9WX"
      },
      "source": [
        "#(train_images, train_labels), (test_images, test_labels), (test_images, test_labels) = fashion_mnist.load_data() #split into testing and training\n",
        "#This would automatically split the data, into the datasets we need"
      ],
      "execution_count": 33,
      "outputs": []
    },
    {
      "cell_type": "code",
      "metadata": {
        "colab": {
          "base_uri": "https://localhost:8080/"
        },
        "id": "H7S0xgfSE4x8",
        "outputId": "1186f1c1-d8d8-4262-c158-28b51aac454f"
      },
      "source": [
        "print('Training dataset:')\n",
        "print(train_data['label'].value_counts())\n",
        "print('Test dataset:')\n",
        "print(test_data['label'].value_counts())\n",
        "print('Test dataset:')\n",
        "print(test_dat1['label'].value_counts())"
      ],
      "execution_count": 34,
      "outputs": [
        {
          "output_type": "stream",
          "text": [
            "Training dataset:\n",
            "normal             67343\n",
            "neptune            41214\n",
            "satan               3633\n",
            "ipsweep             3599\n",
            "portsweep           2931\n",
            "smurf               2646\n",
            "nmap                1493\n",
            "back                 956\n",
            "teardrop             892\n",
            "warezclient          890\n",
            "pod                  201\n",
            "guess_passwd          53\n",
            "buffer_overflow       30\n",
            "warezmaster           20\n",
            "land                  18\n",
            "imap                  11\n",
            "rootkit               10\n",
            "loadmodule             9\n",
            "ftp_write              8\n",
            "multihop               7\n",
            "phf                    4\n",
            "perl                   3\n",
            "spy                    2\n",
            "Name: label, dtype: int64\n",
            "Test dataset:\n",
            "normal             9711\n",
            "neptune            4657\n",
            "guess_passwd       1231\n",
            "mscan               996\n",
            "warezmaster         944\n",
            "apache2             737\n",
            "satan               735\n",
            "processtable        685\n",
            "smurf               665\n",
            "back                359\n",
            "snmpguess           331\n",
            "saint               319\n",
            "mailbomb            293\n",
            "snmpgetattack       178\n",
            "portsweep           157\n",
            "ipsweep             141\n",
            "httptunnel          133\n",
            "nmap                 73\n",
            "pod                  41\n",
            "buffer_overflow      20\n",
            "multihop             18\n",
            "named                17\n",
            "ps                   15\n",
            "sendmail             14\n",
            "xterm                13\n",
            "rootkit              13\n",
            "teardrop             12\n",
            "xlock                 9\n",
            "land                  7\n",
            "xsnoop                4\n",
            "ftp_write             3\n",
            "loadmodule            2\n",
            "perl                  2\n",
            "udpstorm              2\n",
            "worm                  2\n",
            "phf                   2\n",
            "sqlattack             2\n",
            "imap                  1\n",
            "Name: label, dtype: int64\n",
            "Test dataset:\n",
            "normal             2152\n",
            "neptune            1579\n",
            "guess_passwd       1231\n",
            "mscan               996\n",
            "warezmaster         944\n",
            "apache2             737\n",
            "satan               727\n",
            "processtable        685\n",
            "smurf               627\n",
            "back                359\n",
            "snmpguess           331\n",
            "saint               309\n",
            "mailbomb            293\n",
            "snmpgetattack       178\n",
            "portsweep           156\n",
            "ipsweep             141\n",
            "httptunnel          133\n",
            "nmap                 73\n",
            "pod                  41\n",
            "buffer_overflow      20\n",
            "multihop             18\n",
            "named                17\n",
            "ps                   15\n",
            "sendmail             14\n",
            "xterm                13\n",
            "rootkit              13\n",
            "teardrop             12\n",
            "xlock                 9\n",
            "land                  7\n",
            "xsnoop                4\n",
            "ftp_write             3\n",
            "perl                  2\n",
            "worm                  2\n",
            "sqlattack             2\n",
            "udpstorm              2\n",
            "loadmodule            2\n",
            "phf                   2\n",
            "imap                  1\n",
            "Name: label, dtype: int64\n"
          ],
          "name": "stdout"
        }
      ]
    },
    {
      "cell_type": "code",
      "metadata": {
        "id": "5vZKWMNwceWL"
      },
      "source": [
        "# Dictionary that contains mapping of various attacks to the four main categories\n",
        "#https://www.researchgate.net/figure/Attack-types-of-DoS-R2L-U2R-Probe-categories_tbl1_327110465\n",
        "\n",
        "multiclass_attack={ 'normal': 'normal',\n",
        "        'probe': ['ipsweep.', 'nmap.', 'portsweep.','satan.', 'saint.', 'mscan.'], #Probing attacks\n",
        "        'dos': ['back.', 'land.', 'neptune.', 'pod.', 'smurf.','teardrop.', 'apache2.', 'udpstorm.', 'processtable.','mailbomb.'], #Denial of Service\n",
        "        'u2r': ['buffer_overflow.', 'loadmodule.', 'perl.', 'rootkit.','xterm.', 'ps.', 'sqlattack.'], #User to Root attack\n",
        "        'r2l': ['ftp_write.', 'guess_passwd.', 'imap.', 'multihop.','phf.', 'spy.', 'warezclient.', 'warezmaster.','snmpgetattack.', #Root to local attacks\n",
        "                   'named.', 'xlock.', 'xsnoop.','sendmail.', 'httptunnel.', 'worm.', 'snmpguess.']}\n",
        "#multiclass attack, which has a list within a dictornary for the attacks."
      ],
      "execution_count": 35,
      "outputs": []
    },
    {
      "cell_type": "code",
      "metadata": {
        "id": "NHpWfKj45Z2O",
        "colab": {
          "base_uri": "https://localhost:8080/",
          "height": 222
        },
        "outputId": "ea6dfc4c-4487-45d1-9443-d02bf09830cc"
      },
      "source": [
        "test_dat1.head() #puts it out in a graph"
      ],
      "execution_count": 36,
      "outputs": [
        {
          "output_type": "execute_result",
          "data": {
            "text/html": [
              "<div>\n",
              "<style scoped>\n",
              "    .dataframe tbody tr th:only-of-type {\n",
              "        vertical-align: middle;\n",
              "    }\n",
              "\n",
              "    .dataframe tbody tr th {\n",
              "        vertical-align: top;\n",
              "    }\n",
              "\n",
              "    .dataframe thead th {\n",
              "        text-align: right;\n",
              "    }\n",
              "</style>\n",
              "<table border=\"1\" class=\"dataframe\">\n",
              "  <thead>\n",
              "    <tr style=\"text-align: right;\">\n",
              "      <th></th>\n",
              "      <th>duration</th>\n",
              "      <th>protocol_type</th>\n",
              "      <th>service</th>\n",
              "      <th>flag</th>\n",
              "      <th>src_bytes</th>\n",
              "      <th>dst_bytes</th>\n",
              "      <th>land</th>\n",
              "      <th>wrong_fragment</th>\n",
              "      <th>urgent</th>\n",
              "      <th>hot</th>\n",
              "      <th>num_failed_logins</th>\n",
              "      <th>logged_in</th>\n",
              "      <th>num_compromised</th>\n",
              "      <th>root_shell</th>\n",
              "      <th>su_attempted</th>\n",
              "      <th>num_root</th>\n",
              "      <th>num_file_creations</th>\n",
              "      <th>num_shells</th>\n",
              "      <th>num_access_files</th>\n",
              "      <th>num_outbound_cmds</th>\n",
              "      <th>is_host_login</th>\n",
              "      <th>is_guest_login</th>\n",
              "      <th>count</th>\n",
              "      <th>srv_count</th>\n",
              "      <th>serror_rate</th>\n",
              "      <th>srv_serror_rate</th>\n",
              "      <th>rerror_rate</th>\n",
              "      <th>srv_rerror_rate</th>\n",
              "      <th>same_srv_rate</th>\n",
              "      <th>diff_srv_rate</th>\n",
              "      <th>srv_diff_host_rate</th>\n",
              "      <th>dst_host_count</th>\n",
              "      <th>dst_host_srv_count</th>\n",
              "      <th>dst_host_same_srv_rate</th>\n",
              "      <th>dst_host_diff_srv_rate</th>\n",
              "      <th>dst_host_same_src_port_rate</th>\n",
              "      <th>dst_host_srv_diff_host_rate</th>\n",
              "      <th>dst_host_serror_rate</th>\n",
              "      <th>dst_host_srv_serror_rate</th>\n",
              "      <th>dst_host_rerror_rate</th>\n",
              "      <th>dst_host_srv_rerror_rate</th>\n",
              "      <th>label</th>\n",
              "      <th>difficulty</th>\n",
              "    </tr>\n",
              "  </thead>\n",
              "  <tbody>\n",
              "    <tr>\n",
              "      <th>0</th>\n",
              "      <td>13</td>\n",
              "      <td>tcp</td>\n",
              "      <td>telnet</td>\n",
              "      <td>SF</td>\n",
              "      <td>118</td>\n",
              "      <td>2425</td>\n",
              "      <td>0</td>\n",
              "      <td>0</td>\n",
              "      <td>0</td>\n",
              "      <td>0</td>\n",
              "      <td>0</td>\n",
              "      <td>1</td>\n",
              "      <td>0</td>\n",
              "      <td>0</td>\n",
              "      <td>0</td>\n",
              "      <td>0</td>\n",
              "      <td>0</td>\n",
              "      <td>0</td>\n",
              "      <td>0</td>\n",
              "      <td>0</td>\n",
              "      <td>0</td>\n",
              "      <td>0</td>\n",
              "      <td>1</td>\n",
              "      <td>1</td>\n",
              "      <td>0.0</td>\n",
              "      <td>0.0</td>\n",
              "      <td>0.0</td>\n",
              "      <td>0.0</td>\n",
              "      <td>1.00</td>\n",
              "      <td>0.0</td>\n",
              "      <td>0.0</td>\n",
              "      <td>26</td>\n",
              "      <td>10</td>\n",
              "      <td>0.38</td>\n",
              "      <td>0.12</td>\n",
              "      <td>0.04</td>\n",
              "      <td>0.0</td>\n",
              "      <td>0.00</td>\n",
              "      <td>0.00</td>\n",
              "      <td>0.12</td>\n",
              "      <td>0.3</td>\n",
              "      <td>guess_passwd</td>\n",
              "      <td>2</td>\n",
              "    </tr>\n",
              "    <tr>\n",
              "      <th>1</th>\n",
              "      <td>0</td>\n",
              "      <td>udp</td>\n",
              "      <td>private</td>\n",
              "      <td>SF</td>\n",
              "      <td>44</td>\n",
              "      <td>0</td>\n",
              "      <td>0</td>\n",
              "      <td>0</td>\n",
              "      <td>0</td>\n",
              "      <td>0</td>\n",
              "      <td>0</td>\n",
              "      <td>0</td>\n",
              "      <td>0</td>\n",
              "      <td>0</td>\n",
              "      <td>0</td>\n",
              "      <td>0</td>\n",
              "      <td>0</td>\n",
              "      <td>0</td>\n",
              "      <td>0</td>\n",
              "      <td>0</td>\n",
              "      <td>0</td>\n",
              "      <td>0</td>\n",
              "      <td>4</td>\n",
              "      <td>3</td>\n",
              "      <td>0.0</td>\n",
              "      <td>0.0</td>\n",
              "      <td>0.0</td>\n",
              "      <td>0.0</td>\n",
              "      <td>0.75</td>\n",
              "      <td>0.5</td>\n",
              "      <td>0.0</td>\n",
              "      <td>255</td>\n",
              "      <td>254</td>\n",
              "      <td>1.00</td>\n",
              "      <td>0.01</td>\n",
              "      <td>0.01</td>\n",
              "      <td>0.0</td>\n",
              "      <td>0.00</td>\n",
              "      <td>0.00</td>\n",
              "      <td>0.00</td>\n",
              "      <td>0.0</td>\n",
              "      <td>snmpguess</td>\n",
              "      <td>12</td>\n",
              "    </tr>\n",
              "    <tr>\n",
              "      <th>2</th>\n",
              "      <td>0</td>\n",
              "      <td>tcp</td>\n",
              "      <td>telnet</td>\n",
              "      <td>S3</td>\n",
              "      <td>0</td>\n",
              "      <td>44</td>\n",
              "      <td>0</td>\n",
              "      <td>0</td>\n",
              "      <td>0</td>\n",
              "      <td>0</td>\n",
              "      <td>0</td>\n",
              "      <td>0</td>\n",
              "      <td>0</td>\n",
              "      <td>0</td>\n",
              "      <td>0</td>\n",
              "      <td>0</td>\n",
              "      <td>0</td>\n",
              "      <td>0</td>\n",
              "      <td>0</td>\n",
              "      <td>0</td>\n",
              "      <td>0</td>\n",
              "      <td>0</td>\n",
              "      <td>1</td>\n",
              "      <td>1</td>\n",
              "      <td>1.0</td>\n",
              "      <td>1.0</td>\n",
              "      <td>0.0</td>\n",
              "      <td>0.0</td>\n",
              "      <td>1.00</td>\n",
              "      <td>0.0</td>\n",
              "      <td>0.0</td>\n",
              "      <td>255</td>\n",
              "      <td>79</td>\n",
              "      <td>0.31</td>\n",
              "      <td>0.61</td>\n",
              "      <td>0.00</td>\n",
              "      <td>0.0</td>\n",
              "      <td>0.21</td>\n",
              "      <td>0.68</td>\n",
              "      <td>0.60</td>\n",
              "      <td>0.0</td>\n",
              "      <td>processtable</td>\n",
              "      <td>18</td>\n",
              "    </tr>\n",
              "    <tr>\n",
              "      <th>3</th>\n",
              "      <td>0</td>\n",
              "      <td>udp</td>\n",
              "      <td>private</td>\n",
              "      <td>SF</td>\n",
              "      <td>53</td>\n",
              "      <td>55</td>\n",
              "      <td>0</td>\n",
              "      <td>0</td>\n",
              "      <td>0</td>\n",
              "      <td>0</td>\n",
              "      <td>0</td>\n",
              "      <td>0</td>\n",
              "      <td>0</td>\n",
              "      <td>0</td>\n",
              "      <td>0</td>\n",
              "      <td>0</td>\n",
              "      <td>0</td>\n",
              "      <td>0</td>\n",
              "      <td>0</td>\n",
              "      <td>0</td>\n",
              "      <td>0</td>\n",
              "      <td>0</td>\n",
              "      <td>511</td>\n",
              "      <td>511</td>\n",
              "      <td>0.0</td>\n",
              "      <td>0.0</td>\n",
              "      <td>0.0</td>\n",
              "      <td>0.0</td>\n",
              "      <td>1.00</td>\n",
              "      <td>0.0</td>\n",
              "      <td>0.0</td>\n",
              "      <td>255</td>\n",
              "      <td>255</td>\n",
              "      <td>1.00</td>\n",
              "      <td>0.00</td>\n",
              "      <td>0.87</td>\n",
              "      <td>0.0</td>\n",
              "      <td>0.00</td>\n",
              "      <td>0.00</td>\n",
              "      <td>0.00</td>\n",
              "      <td>0.0</td>\n",
              "      <td>normal</td>\n",
              "      <td>17</td>\n",
              "    </tr>\n",
              "    <tr>\n",
              "      <th>4</th>\n",
              "      <td>0</td>\n",
              "      <td>tcp</td>\n",
              "      <td>private</td>\n",
              "      <td>SH</td>\n",
              "      <td>0</td>\n",
              "      <td>0</td>\n",
              "      <td>0</td>\n",
              "      <td>0</td>\n",
              "      <td>0</td>\n",
              "      <td>0</td>\n",
              "      <td>0</td>\n",
              "      <td>0</td>\n",
              "      <td>0</td>\n",
              "      <td>0</td>\n",
              "      <td>0</td>\n",
              "      <td>0</td>\n",
              "      <td>0</td>\n",
              "      <td>0</td>\n",
              "      <td>0</td>\n",
              "      <td>0</td>\n",
              "      <td>0</td>\n",
              "      <td>0</td>\n",
              "      <td>1</td>\n",
              "      <td>1</td>\n",
              "      <td>1.0</td>\n",
              "      <td>1.0</td>\n",
              "      <td>0.0</td>\n",
              "      <td>0.0</td>\n",
              "      <td>1.00</td>\n",
              "      <td>0.0</td>\n",
              "      <td>0.0</td>\n",
              "      <td>16</td>\n",
              "      <td>1</td>\n",
              "      <td>0.06</td>\n",
              "      <td>1.00</td>\n",
              "      <td>1.00</td>\n",
              "      <td>0.0</td>\n",
              "      <td>1.00</td>\n",
              "      <td>1.00</td>\n",
              "      <td>0.00</td>\n",
              "      <td>0.0</td>\n",
              "      <td>nmap</td>\n",
              "      <td>17</td>\n",
              "    </tr>\n",
              "  </tbody>\n",
              "</table>\n",
              "</div>"
            ],
            "text/plain": [
              "   duration protocol_type  ...         label difficulty\n",
              "0        13           tcp  ...  guess_passwd          2\n",
              "1         0           udp  ...     snmpguess         12\n",
              "2         0           tcp  ...  processtable         18\n",
              "3         0           udp  ...        normal         17\n",
              "4         0           tcp  ...          nmap         17\n",
              "\n",
              "[5 rows x 43 columns]"
            ]
          },
          "metadata": {
            "tags": []
          },
          "execution_count": 36
        }
      ]
    },
    {
      "cell_type": "code",
      "metadata": {
        "id": "ZNKK26g55qYl",
        "colab": {
          "base_uri": "https://localhost:8080/",
          "height": 314
        },
        "outputId": "d5d48c40-ea39-46ed-8df2-ccdcfeb0ef2e"
      },
      "source": [
        "test_dat1.describe()#gives us diffrent calculation in a chart, such as count, mean, std, min, etc.."
      ],
      "execution_count": 37,
      "outputs": [
        {
          "output_type": "execute_result",
          "data": {
            "text/html": [
              "<div>\n",
              "<style scoped>\n",
              "    .dataframe tbody tr th:only-of-type {\n",
              "        vertical-align: middle;\n",
              "    }\n",
              "\n",
              "    .dataframe tbody tr th {\n",
              "        vertical-align: top;\n",
              "    }\n",
              "\n",
              "    .dataframe thead th {\n",
              "        text-align: right;\n",
              "    }\n",
              "</style>\n",
              "<table border=\"1\" class=\"dataframe\">\n",
              "  <thead>\n",
              "    <tr style=\"text-align: right;\">\n",
              "      <th></th>\n",
              "      <th>duration</th>\n",
              "      <th>src_bytes</th>\n",
              "      <th>dst_bytes</th>\n",
              "      <th>land</th>\n",
              "      <th>wrong_fragment</th>\n",
              "      <th>urgent</th>\n",
              "      <th>hot</th>\n",
              "      <th>num_failed_logins</th>\n",
              "      <th>logged_in</th>\n",
              "      <th>num_compromised</th>\n",
              "      <th>root_shell</th>\n",
              "      <th>su_attempted</th>\n",
              "      <th>num_root</th>\n",
              "      <th>num_file_creations</th>\n",
              "      <th>num_shells</th>\n",
              "      <th>num_access_files</th>\n",
              "      <th>num_outbound_cmds</th>\n",
              "      <th>is_host_login</th>\n",
              "      <th>is_guest_login</th>\n",
              "      <th>count</th>\n",
              "      <th>srv_count</th>\n",
              "      <th>serror_rate</th>\n",
              "      <th>srv_serror_rate</th>\n",
              "      <th>rerror_rate</th>\n",
              "      <th>srv_rerror_rate</th>\n",
              "      <th>same_srv_rate</th>\n",
              "      <th>diff_srv_rate</th>\n",
              "      <th>srv_diff_host_rate</th>\n",
              "      <th>dst_host_count</th>\n",
              "      <th>dst_host_srv_count</th>\n",
              "      <th>dst_host_same_srv_rate</th>\n",
              "      <th>dst_host_diff_srv_rate</th>\n",
              "      <th>dst_host_same_src_port_rate</th>\n",
              "      <th>dst_host_srv_diff_host_rate</th>\n",
              "      <th>dst_host_serror_rate</th>\n",
              "      <th>dst_host_srv_serror_rate</th>\n",
              "      <th>dst_host_rerror_rate</th>\n",
              "      <th>dst_host_srv_rerror_rate</th>\n",
              "      <th>difficulty</th>\n",
              "    </tr>\n",
              "  </thead>\n",
              "  <tbody>\n",
              "    <tr>\n",
              "      <th>count</th>\n",
              "      <td>11850.000000</td>\n",
              "      <td>1.185000e+04</td>\n",
              "      <td>1.185000e+04</td>\n",
              "      <td>11850.000000</td>\n",
              "      <td>11850.000000</td>\n",
              "      <td>11850.000000</td>\n",
              "      <td>11850.000000</td>\n",
              "      <td>11850.000000</td>\n",
              "      <td>11850.000000</td>\n",
              "      <td>11850.000000</td>\n",
              "      <td>11850.000000</td>\n",
              "      <td>11850.000000</td>\n",
              "      <td>11850.000000</td>\n",
              "      <td>11850.000000</td>\n",
              "      <td>11850.000000</td>\n",
              "      <td>11850.000000</td>\n",
              "      <td>11850.0</td>\n",
              "      <td>11850.000000</td>\n",
              "      <td>11850.000000</td>\n",
              "      <td>11850.000000</td>\n",
              "      <td>11850.000000</td>\n",
              "      <td>11850.000000</td>\n",
              "      <td>11850.000000</td>\n",
              "      <td>11850.000000</td>\n",
              "      <td>11850.000000</td>\n",
              "      <td>11850.000000</td>\n",
              "      <td>11850.000000</td>\n",
              "      <td>11850.000000</td>\n",
              "      <td>11850.000000</td>\n",
              "      <td>11850.000000</td>\n",
              "      <td>11850.000000</td>\n",
              "      <td>11850.000000</td>\n",
              "      <td>11850.000000</td>\n",
              "      <td>11850.000000</td>\n",
              "      <td>11850.000000</td>\n",
              "      <td>11850.000000</td>\n",
              "      <td>11850.000000</td>\n",
              "      <td>11850.000000</td>\n",
              "      <td>11850.000000</td>\n",
              "    </tr>\n",
              "    <tr>\n",
              "      <th>mean</th>\n",
              "      <td>415.439831</td>\n",
              "      <td>1.945644e+04</td>\n",
              "      <td>1.228105e+03</td>\n",
              "      <td>0.000591</td>\n",
              "      <td>0.016034</td>\n",
              "      <td>0.001350</td>\n",
              "      <td>0.190211</td>\n",
              "      <td>0.041181</td>\n",
              "      <td>0.253080</td>\n",
              "      <td>0.227679</td>\n",
              "      <td>0.004304</td>\n",
              "      <td>0.000506</td>\n",
              "      <td>0.218059</td>\n",
              "      <td>0.016203</td>\n",
              "      <td>0.002194</td>\n",
              "      <td>0.003882</td>\n",
              "      <td>0.0</td>\n",
              "      <td>0.000928</td>\n",
              "      <td>0.052911</td>\n",
              "      <td>94.116118</td>\n",
              "      <td>48.269451</td>\n",
              "      <td>0.113841</td>\n",
              "      <td>0.114590</td>\n",
              "      <td>0.274313</td>\n",
              "      <td>0.268355</td>\n",
              "      <td>0.753008</td>\n",
              "      <td>0.157149</td>\n",
              "      <td>0.096762</td>\n",
              "      <td>213.945401</td>\n",
              "      <td>117.541603</td>\n",
              "      <td>0.539597</td>\n",
              "      <td>0.148986</td>\n",
              "      <td>0.206493</td>\n",
              "      <td>0.024465</td>\n",
              "      <td>0.104181</td>\n",
              "      <td>0.106697</td>\n",
              "      <td>0.263952</td>\n",
              "      <td>0.252209</td>\n",
              "      <td>15.326835</td>\n",
              "    </tr>\n",
              "    <tr>\n",
              "      <th>std</th>\n",
              "      <td>1919.441623</td>\n",
              "      <td>6.519865e+05</td>\n",
              "      <td>2.389603e+04</td>\n",
              "      <td>0.024299</td>\n",
              "      <td>0.196379</td>\n",
              "      <td>0.050299</td>\n",
              "      <td>1.222392</td>\n",
              "      <td>0.205401</td>\n",
              "      <td>0.434795</td>\n",
              "      <td>10.025774</td>\n",
              "      <td>0.065465</td>\n",
              "      <td>0.029046</td>\n",
              "      <td>11.090938</td>\n",
              "      <td>0.933202</td>\n",
              "      <td>0.066210</td>\n",
              "      <td>0.076763</td>\n",
              "      <td>0.0</td>\n",
              "      <td>0.030455</td>\n",
              "      <td>0.223866</td>\n",
              "      <td>153.418960</td>\n",
              "      <td>119.213908</td>\n",
              "      <td>0.305945</td>\n",
              "      <td>0.309216</td>\n",
              "      <td>0.430353</td>\n",
              "      <td>0.430249</td>\n",
              "      <td>0.399044</td>\n",
              "      <td>0.338761</td>\n",
              "      <td>0.278665</td>\n",
              "      <td>82.203728</td>\n",
              "      <td>106.563438</td>\n",
              "      <td>0.423370</td>\n",
              "      <td>0.288758</td>\n",
              "      <td>0.379193</td>\n",
              "      <td>0.114234</td>\n",
              "      <td>0.265086</td>\n",
              "      <td>0.278549</td>\n",
              "      <td>0.377337</td>\n",
              "      <td>0.403039</td>\n",
              "      <td>4.407479</td>\n",
              "    </tr>\n",
              "    <tr>\n",
              "      <th>min</th>\n",
              "      <td>0.000000</td>\n",
              "      <td>0.000000e+00</td>\n",
              "      <td>0.000000e+00</td>\n",
              "      <td>0.000000</td>\n",
              "      <td>0.000000</td>\n",
              "      <td>0.000000</td>\n",
              "      <td>0.000000</td>\n",
              "      <td>0.000000</td>\n",
              "      <td>0.000000</td>\n",
              "      <td>0.000000</td>\n",
              "      <td>0.000000</td>\n",
              "      <td>0.000000</td>\n",
              "      <td>0.000000</td>\n",
              "      <td>0.000000</td>\n",
              "      <td>0.000000</td>\n",
              "      <td>0.000000</td>\n",
              "      <td>0.0</td>\n",
              "      <td>0.000000</td>\n",
              "      <td>0.000000</td>\n",
              "      <td>0.000000</td>\n",
              "      <td>0.000000</td>\n",
              "      <td>0.000000</td>\n",
              "      <td>0.000000</td>\n",
              "      <td>0.000000</td>\n",
              "      <td>0.000000</td>\n",
              "      <td>0.000000</td>\n",
              "      <td>0.000000</td>\n",
              "      <td>0.000000</td>\n",
              "      <td>1.000000</td>\n",
              "      <td>1.000000</td>\n",
              "      <td>0.000000</td>\n",
              "      <td>0.000000</td>\n",
              "      <td>0.000000</td>\n",
              "      <td>0.000000</td>\n",
              "      <td>0.000000</td>\n",
              "      <td>0.000000</td>\n",
              "      <td>0.000000</td>\n",
              "      <td>0.000000</td>\n",
              "      <td>0.000000</td>\n",
              "    </tr>\n",
              "    <tr>\n",
              "      <th>25%</th>\n",
              "      <td>0.000000</td>\n",
              "      <td>0.000000e+00</td>\n",
              "      <td>0.000000e+00</td>\n",
              "      <td>0.000000</td>\n",
              "      <td>0.000000</td>\n",
              "      <td>0.000000</td>\n",
              "      <td>0.000000</td>\n",
              "      <td>0.000000</td>\n",
              "      <td>0.000000</td>\n",
              "      <td>0.000000</td>\n",
              "      <td>0.000000</td>\n",
              "      <td>0.000000</td>\n",
              "      <td>0.000000</td>\n",
              "      <td>0.000000</td>\n",
              "      <td>0.000000</td>\n",
              "      <td>0.000000</td>\n",
              "      <td>0.0</td>\n",
              "      <td>0.000000</td>\n",
              "      <td>0.000000</td>\n",
              "      <td>1.000000</td>\n",
              "      <td>1.000000</td>\n",
              "      <td>0.000000</td>\n",
              "      <td>0.000000</td>\n",
              "      <td>0.000000</td>\n",
              "      <td>0.000000</td>\n",
              "      <td>0.500000</td>\n",
              "      <td>0.000000</td>\n",
              "      <td>0.000000</td>\n",
              "      <td>255.000000</td>\n",
              "      <td>12.000000</td>\n",
              "      <td>0.070000</td>\n",
              "      <td>0.010000</td>\n",
              "      <td>0.000000</td>\n",
              "      <td>0.000000</td>\n",
              "      <td>0.000000</td>\n",
              "      <td>0.000000</td>\n",
              "      <td>0.000000</td>\n",
              "      <td>0.000000</td>\n",
              "      <td>14.000000</td>\n",
              "    </tr>\n",
              "    <tr>\n",
              "      <th>50%</th>\n",
              "      <td>0.000000</td>\n",
              "      <td>2.800000e+01</td>\n",
              "      <td>0.000000e+00</td>\n",
              "      <td>0.000000</td>\n",
              "      <td>0.000000</td>\n",
              "      <td>0.000000</td>\n",
              "      <td>0.000000</td>\n",
              "      <td>0.000000</td>\n",
              "      <td>0.000000</td>\n",
              "      <td>0.000000</td>\n",
              "      <td>0.000000</td>\n",
              "      <td>0.000000</td>\n",
              "      <td>0.000000</td>\n",
              "      <td>0.000000</td>\n",
              "      <td>0.000000</td>\n",
              "      <td>0.000000</td>\n",
              "      <td>0.0</td>\n",
              "      <td>0.000000</td>\n",
              "      <td>0.000000</td>\n",
              "      <td>3.000000</td>\n",
              "      <td>2.000000</td>\n",
              "      <td>0.000000</td>\n",
              "      <td>0.000000</td>\n",
              "      <td>0.000000</td>\n",
              "      <td>0.000000</td>\n",
              "      <td>1.000000</td>\n",
              "      <td>0.000000</td>\n",
              "      <td>0.000000</td>\n",
              "      <td>255.000000</td>\n",
              "      <td>83.000000</td>\n",
              "      <td>0.530000</td>\n",
              "      <td>0.020000</td>\n",
              "      <td>0.000000</td>\n",
              "      <td>0.000000</td>\n",
              "      <td>0.000000</td>\n",
              "      <td>0.000000</td>\n",
              "      <td>0.020000</td>\n",
              "      <td>0.000000</td>\n",
              "      <td>17.000000</td>\n",
              "    </tr>\n",
              "    <tr>\n",
              "      <th>75%</th>\n",
              "      <td>1.000000</td>\n",
              "      <td>1.600000e+02</td>\n",
              "      <td>9.300000e+01</td>\n",
              "      <td>0.000000</td>\n",
              "      <td>0.000000</td>\n",
              "      <td>0.000000</td>\n",
              "      <td>0.000000</td>\n",
              "      <td>0.000000</td>\n",
              "      <td>1.000000</td>\n",
              "      <td>0.000000</td>\n",
              "      <td>0.000000</td>\n",
              "      <td>0.000000</td>\n",
              "      <td>0.000000</td>\n",
              "      <td>0.000000</td>\n",
              "      <td>0.000000</td>\n",
              "      <td>0.000000</td>\n",
              "      <td>0.0</td>\n",
              "      <td>0.000000</td>\n",
              "      <td>0.000000</td>\n",
              "      <td>132.000000</td>\n",
              "      <td>16.000000</td>\n",
              "      <td>0.000000</td>\n",
              "      <td>0.000000</td>\n",
              "      <td>0.840000</td>\n",
              "      <td>0.797500</td>\n",
              "      <td>1.000000</td>\n",
              "      <td>0.060000</td>\n",
              "      <td>0.000000</td>\n",
              "      <td>255.000000</td>\n",
              "      <td>250.000000</td>\n",
              "      <td>1.000000</td>\n",
              "      <td>0.070000</td>\n",
              "      <td>0.090000</td>\n",
              "      <td>0.000000</td>\n",
              "      <td>0.010000</td>\n",
              "      <td>0.000000</td>\n",
              "      <td>0.560000</td>\n",
              "      <td>0.520000</td>\n",
              "      <td>18.000000</td>\n",
              "    </tr>\n",
              "    <tr>\n",
              "      <th>max</th>\n",
              "      <td>57715.000000</td>\n",
              "      <td>6.282565e+07</td>\n",
              "      <td>1.288652e+06</td>\n",
              "      <td>1.000000</td>\n",
              "      <td>3.000000</td>\n",
              "      <td>3.000000</td>\n",
              "      <td>101.000000</td>\n",
              "      <td>4.000000</td>\n",
              "      <td>1.000000</td>\n",
              "      <td>796.000000</td>\n",
              "      <td>1.000000</td>\n",
              "      <td>2.000000</td>\n",
              "      <td>878.000000</td>\n",
              "      <td>100.000000</td>\n",
              "      <td>5.000000</td>\n",
              "      <td>4.000000</td>\n",
              "      <td>0.0</td>\n",
              "      <td>1.000000</td>\n",
              "      <td>1.000000</td>\n",
              "      <td>511.000000</td>\n",
              "      <td>511.000000</td>\n",
              "      <td>1.000000</td>\n",
              "      <td>1.000000</td>\n",
              "      <td>1.000000</td>\n",
              "      <td>1.000000</td>\n",
              "      <td>1.000000</td>\n",
              "      <td>1.000000</td>\n",
              "      <td>1.000000</td>\n",
              "      <td>255.000000</td>\n",
              "      <td>255.000000</td>\n",
              "      <td>1.000000</td>\n",
              "      <td>1.000000</td>\n",
              "      <td>1.000000</td>\n",
              "      <td>1.000000</td>\n",
              "      <td>1.000000</td>\n",
              "      <td>1.000000</td>\n",
              "      <td>1.000000</td>\n",
              "      <td>1.000000</td>\n",
              "      <td>20.000000</td>\n",
              "    </tr>\n",
              "  </tbody>\n",
              "</table>\n",
              "</div>"
            ],
            "text/plain": [
              "           duration     src_bytes  ...  dst_host_srv_rerror_rate    difficulty\n",
              "count  11850.000000  1.185000e+04  ...              11850.000000  11850.000000\n",
              "mean     415.439831  1.945644e+04  ...                  0.252209     15.326835\n",
              "std     1919.441623  6.519865e+05  ...                  0.403039      4.407479\n",
              "min        0.000000  0.000000e+00  ...                  0.000000      0.000000\n",
              "25%        0.000000  0.000000e+00  ...                  0.000000     14.000000\n",
              "50%        0.000000  2.800000e+01  ...                  0.000000     17.000000\n",
              "75%        1.000000  1.600000e+02  ...                  0.520000     18.000000\n",
              "max    57715.000000  6.282565e+07  ...                  1.000000     20.000000\n",
              "\n",
              "[8 rows x 39 columns]"
            ]
          },
          "metadata": {
            "tags": []
          },
          "execution_count": 37
        }
      ]
    },
    {
      "cell_type": "code",
      "metadata": {
        "colab": {
          "base_uri": "https://localhost:8080/"
        },
        "id": "zjGARifD__KR",
        "outputId": "2ed413db-1662-4bfc-ae9b-c6e25b447266"
      },
      "source": [
        "train_data['num_outbound_cmds'].value_counts()"
      ],
      "execution_count": 38,
      "outputs": [
        {
          "output_type": "execute_result",
          "data": {
            "text/plain": [
              "0    125973\n",
              "Name: num_outbound_cmds, dtype: int64"
            ]
          },
          "metadata": {
            "tags": []
          },
          "execution_count": 38
        }
      ]
    },
    {
      "cell_type": "code",
      "metadata": {
        "colab": {
          "base_uri": "https://localhost:8080/"
        },
        "id": "xS9vw60zBCcL",
        "outputId": "8bcb5479-2cd6-4390-a5f8-5746829913ee"
      },
      "source": [
        "test_data['num_outbound_cmds'].value_counts()"
      ],
      "execution_count": 39,
      "outputs": [
        {
          "output_type": "execute_result",
          "data": {
            "text/plain": [
              "0    22544\n",
              "Name: num_outbound_cmds, dtype: int64"
            ]
          },
          "metadata": {
            "tags": []
          },
          "execution_count": 39
        }
      ]
    },
    {
      "cell_type": "code",
      "metadata": {
        "colab": {
          "base_uri": "https://localhost:8080/"
        },
        "id": "zRmsCo4pApeS",
        "outputId": "88ddbcf4-b5b9-42cb-85c4-49d53c6383d5"
      },
      "source": [
        "test_dat1['num_outbound_cmds'].value_counts()"
      ],
      "execution_count": 40,
      "outputs": [
        {
          "output_type": "execute_result",
          "data": {
            "text/plain": [
              "0    11850\n",
              "Name: num_outbound_cmds, dtype: int64"
            ]
          },
          "metadata": {
            "tags": []
          },
          "execution_count": 40
        }
      ]
    },
    {
      "cell_type": "code",
      "metadata": {
        "colab": {
          "base_uri": "https://localhost:8080/",
          "height": 161
        },
        "id": "DQYxLCKkDof7",
        "outputId": "e544ed24-fc5f-4ced-ad46-e40bfdb21572"
      },
      "source": [
        "train_data.head(3)"
      ],
      "execution_count": 41,
      "outputs": [
        {
          "output_type": "execute_result",
          "data": {
            "text/html": [
              "<div>\n",
              "<style scoped>\n",
              "    .dataframe tbody tr th:only-of-type {\n",
              "        vertical-align: middle;\n",
              "    }\n",
              "\n",
              "    .dataframe tbody tr th {\n",
              "        vertical-align: top;\n",
              "    }\n",
              "\n",
              "    .dataframe thead th {\n",
              "        text-align: right;\n",
              "    }\n",
              "</style>\n",
              "<table border=\"1\" class=\"dataframe\">\n",
              "  <thead>\n",
              "    <tr style=\"text-align: right;\">\n",
              "      <th></th>\n",
              "      <th>duration</th>\n",
              "      <th>protocol_type</th>\n",
              "      <th>service</th>\n",
              "      <th>flag</th>\n",
              "      <th>src_bytes</th>\n",
              "      <th>dst_bytes</th>\n",
              "      <th>land</th>\n",
              "      <th>wrong_fragment</th>\n",
              "      <th>urgent</th>\n",
              "      <th>hot</th>\n",
              "      <th>num_failed_logins</th>\n",
              "      <th>logged_in</th>\n",
              "      <th>num_compromised</th>\n",
              "      <th>root_shell</th>\n",
              "      <th>su_attempted</th>\n",
              "      <th>num_root</th>\n",
              "      <th>num_file_creations</th>\n",
              "      <th>num_shells</th>\n",
              "      <th>num_access_files</th>\n",
              "      <th>num_outbound_cmds</th>\n",
              "      <th>is_host_login</th>\n",
              "      <th>is_guest_login</th>\n",
              "      <th>count</th>\n",
              "      <th>srv_count</th>\n",
              "      <th>serror_rate</th>\n",
              "      <th>srv_serror_rate</th>\n",
              "      <th>rerror_rate</th>\n",
              "      <th>srv_rerror_rate</th>\n",
              "      <th>same_srv_rate</th>\n",
              "      <th>diff_srv_rate</th>\n",
              "      <th>srv_diff_host_rate</th>\n",
              "      <th>dst_host_count</th>\n",
              "      <th>dst_host_srv_count</th>\n",
              "      <th>dst_host_same_srv_rate</th>\n",
              "      <th>dst_host_diff_srv_rate</th>\n",
              "      <th>dst_host_same_src_port_rate</th>\n",
              "      <th>dst_host_srv_diff_host_rate</th>\n",
              "      <th>dst_host_serror_rate</th>\n",
              "      <th>dst_host_srv_serror_rate</th>\n",
              "      <th>dst_host_rerror_rate</th>\n",
              "      <th>dst_host_srv_rerror_rate</th>\n",
              "      <th>label</th>\n",
              "      <th>difficulty</th>\n",
              "    </tr>\n",
              "  </thead>\n",
              "  <tbody>\n",
              "    <tr>\n",
              "      <th>0</th>\n",
              "      <td>0</td>\n",
              "      <td>tcp</td>\n",
              "      <td>ftp_data</td>\n",
              "      <td>SF</td>\n",
              "      <td>491</td>\n",
              "      <td>0</td>\n",
              "      <td>0</td>\n",
              "      <td>0</td>\n",
              "      <td>0</td>\n",
              "      <td>0</td>\n",
              "      <td>0</td>\n",
              "      <td>0</td>\n",
              "      <td>0</td>\n",
              "      <td>0</td>\n",
              "      <td>0</td>\n",
              "      <td>0</td>\n",
              "      <td>0</td>\n",
              "      <td>0</td>\n",
              "      <td>0</td>\n",
              "      <td>0</td>\n",
              "      <td>0</td>\n",
              "      <td>0</td>\n",
              "      <td>2</td>\n",
              "      <td>2</td>\n",
              "      <td>0.0</td>\n",
              "      <td>0.0</td>\n",
              "      <td>0.0</td>\n",
              "      <td>0.0</td>\n",
              "      <td>1.00</td>\n",
              "      <td>0.00</td>\n",
              "      <td>0.0</td>\n",
              "      <td>150</td>\n",
              "      <td>25</td>\n",
              "      <td>0.17</td>\n",
              "      <td>0.03</td>\n",
              "      <td>0.17</td>\n",
              "      <td>0.0</td>\n",
              "      <td>0.0</td>\n",
              "      <td>0.0</td>\n",
              "      <td>0.05</td>\n",
              "      <td>0.0</td>\n",
              "      <td>normal</td>\n",
              "      <td>20</td>\n",
              "    </tr>\n",
              "    <tr>\n",
              "      <th>1</th>\n",
              "      <td>0</td>\n",
              "      <td>udp</td>\n",
              "      <td>other</td>\n",
              "      <td>SF</td>\n",
              "      <td>146</td>\n",
              "      <td>0</td>\n",
              "      <td>0</td>\n",
              "      <td>0</td>\n",
              "      <td>0</td>\n",
              "      <td>0</td>\n",
              "      <td>0</td>\n",
              "      <td>0</td>\n",
              "      <td>0</td>\n",
              "      <td>0</td>\n",
              "      <td>0</td>\n",
              "      <td>0</td>\n",
              "      <td>0</td>\n",
              "      <td>0</td>\n",
              "      <td>0</td>\n",
              "      <td>0</td>\n",
              "      <td>0</td>\n",
              "      <td>0</td>\n",
              "      <td>13</td>\n",
              "      <td>1</td>\n",
              "      <td>0.0</td>\n",
              "      <td>0.0</td>\n",
              "      <td>0.0</td>\n",
              "      <td>0.0</td>\n",
              "      <td>0.08</td>\n",
              "      <td>0.15</td>\n",
              "      <td>0.0</td>\n",
              "      <td>255</td>\n",
              "      <td>1</td>\n",
              "      <td>0.00</td>\n",
              "      <td>0.60</td>\n",
              "      <td>0.88</td>\n",
              "      <td>0.0</td>\n",
              "      <td>0.0</td>\n",
              "      <td>0.0</td>\n",
              "      <td>0.00</td>\n",
              "      <td>0.0</td>\n",
              "      <td>normal</td>\n",
              "      <td>15</td>\n",
              "    </tr>\n",
              "    <tr>\n",
              "      <th>2</th>\n",
              "      <td>0</td>\n",
              "      <td>tcp</td>\n",
              "      <td>private</td>\n",
              "      <td>S0</td>\n",
              "      <td>0</td>\n",
              "      <td>0</td>\n",
              "      <td>0</td>\n",
              "      <td>0</td>\n",
              "      <td>0</td>\n",
              "      <td>0</td>\n",
              "      <td>0</td>\n",
              "      <td>0</td>\n",
              "      <td>0</td>\n",
              "      <td>0</td>\n",
              "      <td>0</td>\n",
              "      <td>0</td>\n",
              "      <td>0</td>\n",
              "      <td>0</td>\n",
              "      <td>0</td>\n",
              "      <td>0</td>\n",
              "      <td>0</td>\n",
              "      <td>0</td>\n",
              "      <td>123</td>\n",
              "      <td>6</td>\n",
              "      <td>1.0</td>\n",
              "      <td>1.0</td>\n",
              "      <td>0.0</td>\n",
              "      <td>0.0</td>\n",
              "      <td>0.05</td>\n",
              "      <td>0.07</td>\n",
              "      <td>0.0</td>\n",
              "      <td>255</td>\n",
              "      <td>26</td>\n",
              "      <td>0.10</td>\n",
              "      <td>0.05</td>\n",
              "      <td>0.00</td>\n",
              "      <td>0.0</td>\n",
              "      <td>1.0</td>\n",
              "      <td>1.0</td>\n",
              "      <td>0.00</td>\n",
              "      <td>0.0</td>\n",
              "      <td>neptune</td>\n",
              "      <td>19</td>\n",
              "    </tr>\n",
              "  </tbody>\n",
              "</table>\n",
              "</div>"
            ],
            "text/plain": [
              "   duration protocol_type  ...    label difficulty\n",
              "0         0           tcp  ...   normal         20\n",
              "1         0           udp  ...   normal         15\n",
              "2         0           tcp  ...  neptune         19\n",
              "\n",
              "[3 rows x 43 columns]"
            ]
          },
          "metadata": {
            "tags": []
          },
          "execution_count": 41
        }
      ]
    },
    {
      "cell_type": "code",
      "metadata": {
        "id": "hwO5a9oNF8va"
      },
      "source": [
        "def graph(feature):\n",
        "    test_data[feature].value_counts().plot(kind=\"bar\")"
      ],
      "execution_count": 42,
      "outputs": []
    },
    {
      "cell_type": "code",
      "metadata": {
        "colab": {
          "base_uri": "https://localhost:8080/",
          "height": 280
        },
        "id": "1-1kgrxGGE9k",
        "outputId": "72869eb6-d2b6-46ae-db4d-2d0f08c8ea6d"
      },
      "source": [
        "graph('protocol_type')\n"
      ],
      "execution_count": 43,
      "outputs": [
        {
          "output_type": "display_data",
          "data": {
            "image/png": "[encoded data removed]",
            "text/plain": [
              "<Figure size 432x288 with 1 Axes>"
            ]
          },
          "metadata": {
            "tags": [],
            "needs_background": "light"
          }
        }
      ]
    },
    {
      "cell_type": "code",
      "metadata": {
        "colab": {
          "base_uri": "https://localhost:8080/",
          "height": 264
        },
        "id": "VAykOVzWGKOr",
        "outputId": "0f7af983-0d16-49fd-f7d3-6bb5732a6185"
      },
      "source": [
        "plt.figure(figsize=(15,3))\n",
        "graph('service')"
      ],
      "execution_count": 44,
      "outputs": [
        {
          "output_type": "display_data",
          "data": {
            "image/png": "[encoded data removed]",
            "text/plain": [
              "<Figure size 1080x216 with 1 Axes>"
            ]
          },
          "metadata": {
            "tags": [],
            "needs_background": "light"
          }
        }
      ]
    },
    {
      "cell_type": "code",
      "metadata": {
        "colab": {
          "base_uri": "https://localhost:8080/",
          "height": 294
        },
        "id": "pKKkrB4VGYQk",
        "outputId": "55e4e5c1-a3a7-4b12-fcfd-a2935973d9df"
      },
      "source": [
        "graph('flag')\n"
      ],
      "execution_count": 45,
      "outputs": [
        {
          "output_type": "display_data",
          "data": {
            "image/png": "[encoded data removed]",
            "text/plain": [
              "<Figure size 432x288 with 1 Axes>"
            ]
          },
          "metadata": {
            "tags": [],
            "needs_background": "light"
          }
        }
      ]
    },
    {
      "cell_type": "code",
      "metadata": {
        "colab": {
          "base_uri": "https://localhost:8080/",
          "height": 333
        },
        "id": "q2vPGxHPGaPW",
        "outputId": "a09285fd-e2d1-4d03-dc45-163af580e396"
      },
      "source": [
        "graph('label')"
      ],
      "execution_count": 46,
      "outputs": [
        {
          "output_type": "display_data",
          "data": {
            "image/png": "[encoded data removed]",
            "text/plain": [
              "<Figure size 432x288 with 1 Axes>"
            ]
          },
          "metadata": {
            "tags": [],
            "needs_background": "light"
          }
        }
      ]
    },
    {
      "cell_type": "markdown",
      "metadata": {
        "id": "AAQEgjPtIYHK"
      },
      "source": [
        "Data Handleing, From (https://github.com/mahbubhimel/Intrusion-Detection-System-Using-Convolutional-Neural-Network/blob/main/CNN_Intrusion_Detection.ipynb)"
      ]
    },
    {
      "cell_type": "code",
      "metadata": {
        "id": "wdLIChLjBSAT"
      },
      "source": [
        "def preprocessing(data, cls, df):\n",
        "    # ----------attack categorization----------------->\n",
        "    data['label'] = data['label'].replace(['normal.', 'normal'], 0)\n",
        "    # ----------Event Handerler----------------------->\n",
        "    #a = (0 or 1)\n",
        "    while True:\n",
        "        try:\n",
        "            for i in ([0], cls == 'binary') or ([1], cls == 'multiclass'):\n",
        "                pass  # data hanlding above show the data validation\n",
        "\n",
        "            break  # this would then break out of the range to the if-elif statement\n",
        "        except ValueError:\n",
        "            print(\"it has passed\")\n",
        "    # ----------------------binary classification--------------------->\n",
        "    if cls == 'binary':\n",
        "        for i in range(len(binary_attack)):\n",
        "            data['label'] = data['label'].replace(binary_attack[i], 1)\n",
        "\n",
        "    # ---------------multiclass classification-------------------->\n",
        "    elif cls == 'multiclass':\n",
        "        for i in range(len(multiclass_attack['probe'])):\n",
        "            data['label'] = data['label'].replace([multiclass_attack['probe'][i], multiclass_attack['probe'][i][:-1]],1)\n",
        "\n",
        "        for i in range(len(multiclass_attack['dos'])):\n",
        "            data['label'] = data['label'].replace([multiclass_attack['dos'][i], multiclass_attack['dos'][i][:-1]], 2)\n",
        "\n",
        "        for i in range(len(multiclass_attack['u2r'])):\n",
        "            data['label'] = data['label'].replace([multiclass_attack['u2r'][i], multiclass_attack['u2r'][i][:-1]], 3)\n",
        "\n",
        "        for i in range(len(multiclass_attack['r2l'])):\n",
        "            data['label'] = data['label'].replace([multiclass_attack['r2l'][i], multiclass_attack['r2l'][i][:-1]], 4)\n",
        "    # ------------------------------------------------>\n",
        "\n",
        "    # -------------------------splitting features and labels---------------->\n",
        "    y = data['label']\n",
        "    x = data.loc[:, 'duration':'hot']\n",
        "\n",
        "    # -----------------converting to binary feature vectors-------------------------------------->\n",
        "    t = x.protocol_type.copy()\n",
        "    t = pd.get_dummies(t)\n",
        "    x = x.drop(columns='protocol_type', axis=1)\n",
        "    x = x.join(t)\n",
        "\n",
        "    t1 = x.service.copy()\n",
        "    t1 = pd.get_dummies(t1)\n",
        "    x = x.drop(columns='service', axis=1)\n",
        "    x = x.join(t1)\n",
        "\n",
        "    t2 = x.flag.copy()\n",
        "    t2 = pd.get_dummies(t2)\n",
        "    x = x.drop(columns='flag', axis=1)\n",
        "    x = x.join(t2)\n",
        "\n",
        "    # -----------------converting to binary label vectors-------------------------------------->\n",
        "    yt = y.copy()\n",
        "    yt = pd.get_dummies(yt)\n",
        "    # ------------------------------------------------------------------------------>\n",
        "\n",
        "    x = MinMaxScaler(feature_range=(0, 1)).fit_transform(x)\n",
        "\n",
        "    if df == 'train':\n",
        "        return x, yt\n",
        "    else:\n",
        "        return x, y\n"
      ],
      "execution_count": 47,
      "outputs": []
    },
    {
      "cell_type": "code",
      "metadata": {
        "id": "FFOQQe5cP363"
      },
      "source": [
        "x_train,Y_train=preprocessing(train_data,cls='binary',df='train')\n",
        "x_test,Y_test=preprocessing(test_data,cls='binary',df='test')\n",
        "x_21_test, y_21_test = preprocessing(test_dat1, cls = 'binary', df = 'test21')"
      ],
      "execution_count": 48,
      "outputs": []
    },
    {
      "cell_type": "code",
      "metadata": {
        "colab": {
          "base_uri": "https://localhost:8080/"
        },
        "id": "AeiDw93VHhzK",
        "outputId": "597307c2-e872-4f16-df0e-97b55509ca01"
      },
      "source": [
        "print('Dimensions of the Training set:',x_train.shape)\n",
        "print('Dimensions of the Test set:',x_test.shape)\n",
        "print('Dimensions of the Test-21 set:',x_21_test.shape)\n",
        "#https://github.com/mahbubhimel/Intrusion-Detection-System-Using-Convolutional-Neural-Network/blob/main/CNN_Intrusion_Detection.ipynb"
      ],
      "execution_count": 49,
      "outputs": [
        {
          "output_type": "stream",
          "text": [
            "Dimensions of the Training set: (125973, 91)\n",
            "Dimensions of the Test set: (22544, 85)\n",
            "Dimensions of the Test-21 set: (11850, 83)\n"
          ],
          "name": "stdout"
        }
      ]
    },
    {
      "cell_type": "code",
      "metadata": {
        "colab": {
          "base_uri": "https://localhost:8080/"
        },
        "id": "gZj__z97U0YO",
        "outputId": "941bd743-8a83-4870-c487-2b35e9669d5d"
      },
      "source": [
        "x_train = np.reshape(x_train, (x_train.shape[0], x_train.shape[1], 1))\n",
        "x_train.shape"
      ],
      "execution_count": 50,
      "outputs": [
        {
          "output_type": "execute_result",
          "data": {
            "text/plain": [
              "(125973, 91, 1)"
            ]
          },
          "metadata": {
            "tags": []
          },
          "execution_count": 50
        }
      ]
    },
    {
      "cell_type": "code",
      "metadata": {
        "colab": {
          "base_uri": "https://localhost:8080/"
        },
        "id": "Zx8Q9A8uU20O",
        "outputId": "303df2fe-007e-483f-b03c-4ee368178c38"
      },
      "source": [
        "x_test = np.reshape(x_test, (x_test.shape[0], x_test.shape[1], 1))\n",
        "x_test.shape"
      ],
      "execution_count": 51,
      "outputs": [
        {
          "output_type": "execute_result",
          "data": {
            "text/plain": [
              "(22544, 85, 1)"
            ]
          },
          "metadata": {
            "tags": []
          },
          "execution_count": 51
        }
      ]
    },
    {
      "cell_type": "code",
      "metadata": {
        "colab": {
          "base_uri": "https://localhost:8080/"
        },
        "id": "UlikLKANU6Ww",
        "outputId": "f5927758-603e-4369-a366-1194f4236f09"
      },
      "source": [
        "x_21_test = np.reshape(x_21_test, (x_21_test.shape[0], x_21_test.shape[1], 1))\n",
        "x_21_test.shape"
      ],
      "execution_count": 52,
      "outputs": [
        {
          "output_type": "execute_result",
          "data": {
            "text/plain": [
              "(11850, 83, 1)"
            ]
          },
          "metadata": {
            "tags": []
          },
          "execution_count": 52
        }
      ]
    },
    {
      "cell_type": "code",
      "metadata": {
        "id": "b8d1Y1htUX6T"
      },
      "source": [
        "x_train = x_train / 255.0\n",
        "\n",
        "x_test = x_test / 255.0\n",
        "\n",
        "x_21_test = x_21_test / 255.0"
      ],
      "execution_count": 53,
      "outputs": []
    },
    {
      "cell_type": "markdown",
      "metadata": {
        "id": "QRn2tQQEQfj7"
      },
      "source": [
        "The ConvNet model\n"
      ]
    },
    {
      "cell_type": "code",
      "metadata": {
        "id": "R68AJcJ8KOaO"
      },
      "source": [
        "from keras.models import Sequential\n",
        "from keras.layers import Dense, LSTM, Dropout, SimpleRNN , GRU , Activation\n",
        "from keras.layers.normalization import BatchNormalization\n",
        "from keras import optimizers\n",
        "import tensorflow as tf\n",
        "from keras.layers import Convolution1D, Dense, Dropout, Flatten, MaxPooling1D , AveragePooling1D\n",
        "from sklearn.model_selection import cross_validate\n",
        "from sklearn.model_selection import train_test_split\n"
      ],
      "execution_count": 54,
      "outputs": []
    },
    {
      "cell_type": "code",
      "metadata": {
        "id": "RmFvNGBlUHmW"
      },
      "source": [
        "# Learning stage 1 - ConvNet B\n",
        "model0 = Sequential()\n",
        "model0.add(Convolution1D(32, 3, activation=\"relu\",input_shape = (x_train.shape[1], 1)))\n",
        "model0.add(MaxPooling1D(pool_size=(4)))\n",
        "model0.add(Dropout(0.5))\n",
        "model0.add(Flatten())\n",
        "model0.add(Dense(256, activation=\"relu\"))\n",
        "model0.add(Dropout(0.5))\n",
        "model0.add(Dense(2, activation=\"softmax\"))\n",
        "model0.compile(optimizer='adam',\n",
        "              loss='categorical_crossentropy',\n",
        "              metrics=['accuracy'])\n"
      ],
      "execution_count": 55,
      "outputs": []
    },
    {
      "cell_type": "code",
      "metadata": {
        "colab": {
          "base_uri": "https://localhost:8080/"
        },
        "id": "MLKKehPlLmtw",
        "outputId": "76631017-c23b-4ee2-f4bf-e88c16bcf424"
      },
      "source": [
        "model0.summary()\n"
      ],
      "execution_count": 56,
      "outputs": [
        {
          "output_type": "stream",
          "text": [
            "Model: \"sequential_1\"\n",
            "_________________________________________________________________\n",
            "Layer (type)                 Output Shape              Param #   \n",
            "=================================================================\n",
            "conv1d_1 (Conv1D)            (None, 89, 32)            128       \n",
            "_________________________________________________________________\n",
            "max_pooling1d_1 (MaxPooling1 (None, 22, 32)            0         \n",
            "_________________________________________________________________\n",
            "dropout_2 (Dropout)          (None, 22, 32)            0         \n",
            "_________________________________________________________________\n",
            "flatten_1 (Flatten)          (None, 704)               0         \n",
            "_________________________________________________________________\n",
            "dense_2 (Dense)              (None, 256)               180480    \n",
            "_________________________________________________________________\n",
            "dropout_3 (Dropout)          (None, 256)               0         \n",
            "_________________________________________________________________\n",
            "dense_3 (Dense)              (None, 2)                 514       \n",
            "=================================================================\n",
            "Total params: 181,122\n",
            "Trainable params: 181,122\n",
            "Non-trainable params: 0\n",
            "_________________________________________________________________\n"
          ],
          "name": "stdout"
        }
      ]
    },
    {
      "cell_type": "code",
      "metadata": {
        "colab": {
          "base_uri": "https://localhost:8080/"
        },
        "id": "3kt8MvI96WPR",
        "outputId": "3703fe0b-591b-4a9f-c12e-af3a60e58b5f"
      },
      "source": [
        "model0.fit(x_train, Y_train, epochs = 1, batch_size = 128)"
      ],
      "execution_count": 57,
      "outputs": [
        {
          "output_type": "stream",
          "text": [
            "985/985 [==============================] - 14s 14ms/step - loss: 0.5656 - accuracy: 0.6814\n"
          ],
          "name": "stdout"
        },
        {
          "output_type": "execute_result",
          "data": {
            "text/plain": [
              "<keras.callbacks.History at 0x7fb4c67c5b10>"
            ]
          },
          "metadata": {
            "tags": []
          },
          "execution_count": 57
        }
      ]
    },
    {
      "cell_type": "code",
      "metadata": {
        "id": "6JQ4dQuCNXfo"
      },
      "source": [
        "# # Learning stage 2 - ConvNet T\n",
        "# model1 = Sequential()\n",
        "#   # = Sequential()\n",
        "# model1.add(Convolution1D(32, 3, activation=\"relu\",input_shape = (x_train.shape[1], 1)))\n",
        "# model1.add(MaxPooling1D(pool_size=(4)))\n",
        "# model1.add(Dropout(0.5))\n",
        "# model1.add(Flatten())\n",
        "# model1.add(Dense(256, activation=\"relu\"))\n",
        "# model1.add(Dropout(0.5))\n",
        "# model1.add(Dense(2, activation=\"softmax\"))\n",
        "  "
      ],
      "execution_count": 58,
      "outputs": []
    },
    {
      "cell_type": "code",
      "metadata": {
        "id": "D_TiwfsrKY6Z"
      },
      "source": [
        "# model1.summary()"
      ],
      "execution_count": 59,
      "outputs": []
    },
    {
      "cell_type": "code",
      "metadata": {
        "id": "MprmTZniUHsI"
      },
      "source": [
        ""
      ],
      "execution_count": 59,
      "outputs": []
    },
    {
      "cell_type": "code",
      "metadata": {
        "id": "MbwlcvHSJye1"
      },
      "source": [
        ""
      ],
      "execution_count": 59,
      "outputs": []
    },
    {
      "cell_type": "code",
      "metadata": {
        "id": "2dduRNDeTrwe"
      },
      "source": [
        "#https://www.auditmypc.com/tcp-port-8001.asp #https://github.com/mahbubhimel/Intrusion-Detection-System-Using-Convolutional-Neural-Network/blob/main/CNN_Intrusion_Detection.ipynb\n",
        "#etection Rate (DR), False Alarm Rate (FAR) and accuracy (Acc%) #  \n",
        "\n",
        "# model.compile(optimizer='adam',\n",
        "#               loss='sparse_categorical_crossentropy',\n",
        "#               metrics=['accuracy'])\n",
        "\n",
        "# model.add(Flatten())\n",
        "# model.add(Dense(256, activation=\"relu\"))\n",
        "# model.add(Dropout(0.5))\n",
        "# model.add(Dense(2, activation=\"softmax\"))\n",
        "\n",
        "# model = keras.Sequential([\n",
        "#     keras.layers.Flatten(input_shape=(28, 28)),  # input layer (1)\n",
        "#     keras.layers.Dense(128, activation='relu'),  # hidden layer (2)\n",
        "#     keras.layers.Dense(10, activation='softmax') # output layer (3)\n",
        "# ])\n",
        "\n",
        "#would be used to modify for the purpose of the model\n",
        "\n",
        "# model = Sequential()\n",
        "\n",
        "\n",
        "# # model.add(Convolution1D(32, 3, activation=\"relu\"))\n",
        "# model.add(MaxPooling1D(pool_size=(4)))\n",
        "# # model.add(tf.keras.layers.LayerNormalization())\n",
        "# # model.add(GRU(units = 128, return_sequences=True, input_shape = (x_train.shape[1])))\n",
        "# model.add(Dropout(0.5))\n",
        "\n",
        "# model.add(Convolution1D(64, 3, padding=\"same\",activation=\"relu\"))\n",
        "# # model.add(Convolution1D(64, 3,activation=\"relu\"))\n",
        "# model.add(MaxPooling1D(pool_size=(2)))\n",
        "# model.add(Dropout(0.5))\n",
        "# # model.add(tf.keras.layers.LayerNormalization())\n",
        "\n",
        "# # model.add(Convolution1D(64, 3, padding=\"same\",activation=\"relu\"))\n",
        "# # model.add(Convolution1D(64, 3,activation=\"relu\"))\n",
        "# # model.add(AveragePooling1D(pool_size=(2)))\n",
        "# # model.add(Dropout(0.2))\n",
        "\n",
        "# model.add(Flatten())\n",
        "# model.add(Dense(256, activation=\"relu\"))\n",
        "# model.add(Dropout(0.5))\n",
        "# model.add(Dense(2, activation=\"softmax\"))"
      ],
      "execution_count": 60,
      "outputs": []
    }
  ]
}
